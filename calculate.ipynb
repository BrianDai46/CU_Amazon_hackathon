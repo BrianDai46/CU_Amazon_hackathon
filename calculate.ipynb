{
 "cells": [
  {
   "cell_type": "code",
   "execution_count": 56,
   "metadata": {},
   "outputs": [],
   "source": [
    "import pandas as pd\n",
    "from WOOF import WOOF\n",
    "df = pd.read_excel(\"Columbia_Hackathon_Data_Dogfood.xlsx\")"
   ]
  },
  {
   "cell_type": "code",
   "execution_count": null,
   "metadata": {},
   "outputs": [],
   "source": [
    "# put products to correspond brands in a dictionary\n",
    "df2 = pd.read_excel(\"cleaned_Dogfood.xlsx\")\n",
    "products = set(df2.product_name)\n",
    "brands = set(df2.product_brand)\n",
    "brand_products = {}\n",
    "for brand in brands:\n",
    "    brand_products[brand] = []\n",
    "for product in products:\n",
    "    clip = product.split()[0:2]\n",
    "    clips = \" \".join(clip)\n",
    "    for brand in brands:\n",
    "        if brand in clips:\n",
    "            brand_products[brand].append(product)\n",
    "            break\n",
    "brand_products"
   ]
  },
  {
   "cell_type": "code",
   "execution_count": 65,
   "metadata": {},
   "outputs": [],
   "source": [
    "def get_catergories(data, category): # input: \"str\"\n",
    "        # return a list of catergories\n",
    "        return list(set(data[category]))\n",
    "    \n",
    "def get_rank(data, col): # input: data = DataFrame, col = list[\"str\"..]\n",
    "        # return a list of the order of sns avg group by catergories increasing order\n",
    "        rank = data.groupby(col).sns.mean().sort_values().index\n",
    "        return list(rank)\n",
    "\n",
    "def woof(data, brand, bio = None, ads_type = None):\n",
    "        score = 0\n",
    "        brand_score = get_rank(data, \"product_brand\").index(brand) / len(get_catergories(data, \"product_brand\"))\n",
    "        return brand_score"
   ]
  },
  {
   "cell_type": "code",
   "execution_count": 66,
   "metadata": {},
   "outputs": [
    {
     "data": {
      "text/plain": [
       "0.44"
      ]
     },
     "execution_count": 66,
     "metadata": {},
     "output_type": "execute_result"
    }
   ],
   "source": [
    "df2 = pd.read_excel(\"cleaned_Dogfood.xlsx\")\n",
    "woof(df2, \"Alpha\")"
   ]
  },
  {
   "cell_type": "markdown",
   "metadata": {},
   "source": []
  }
 ],
 "metadata": {
  "kernelspec": {
   "display_name": "Python 3.10.8 64-bit (microsoft store)",
   "language": "python",
   "name": "python3"
  },
  "language_info": {
   "codemirror_mode": {
    "name": "ipython",
    "version": 3
   },
   "file_extension": ".py",
   "mimetype": "text/x-python",
   "name": "python",
   "nbconvert_exporter": "python",
   "pygments_lexer": "ipython3",
   "version": "3.10.8"
  },
  "orig_nbformat": 4,
  "vscode": {
   "interpreter": {
    "hash": "747749c99cf14c3fe74ec9e458bd9456c3c3d28ccbcf242e8265b3db247afd96"
   }
  }
 },
 "nbformat": 4,
 "nbformat_minor": 2
}
