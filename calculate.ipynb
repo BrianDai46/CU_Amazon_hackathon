{
 "cells": [
  {
   "cell_type": "code",
   "execution_count": 56,
   "metadata": {},
   "outputs": [],
   "source": [
    "import pandas as pd"
   ]
  },
  {
   "cell_type": "code",
   "execution_count": null,
   "metadata": {},
   "outputs": [],
   "source": [
    "# put products to correspond brands in a dictionary\n",
    "df2 = pd.read_excel(\"cleaned_Dogfood.xlsx\")\n",
    "products = set(df2.product_name)\n",
    "brands = set(df2.product_brand)\n",
    "brand_products = {}\n",
    "for brand in brands:\n",
    "    brand_products[brand] = []\n",
    "for product in products:\n",
    "    clip = product.split()[0:2]\n",
    "    clips = \" \".join(clip)\n",
    "    for brand in brands:\n",
    "        if brand in clips:\n",
    "            brand_products[brand].append(product)\n",
    "            break\n",
    "brand_products"
   ]
  },
  {
   "cell_type": "code",
   "execution_count": 200,
   "metadata": {},
   "outputs": [],
   "source": [
    "# all attributes to get facters\n",
    "def get_catergories(data, category): # input: \"str\"\n",
    "        # return a list of catergories\n",
    "        return list(set(data[category]))\n",
    "    \n",
    "def get_sns_rank(data, col): # input: data = DataFrame, col = list[\"str\"..]\n",
    "        # return a list of the order of sns avg group by catergories increasing order\n",
    "        rank = data.groupby(col).sns.mean().sort_values().index\n",
    "        return list(rank)\n",
    "\n",
    "def get_market_percentage(data, col):# input: data = DataFrame, col = list[\"str\"..]\n",
    "        # return the market values sum of each catergories\n",
    "        return data.groupby(col).total_price.sum()\n",
    "\n",
    "def get_proportions(data, col):# input: data = DataFrame, col = list[\"str\"..]\n",
    "        # return the proportions of given input (1 or 2)\n",
    "        if len(col) == 1:\n",
    "                return data.groupby(col).size() / len(data)\n",
    "        # for 2 inputs, the order decide which is the main(1st) and sub(2nd) category\n",
    "        return data.groupby(col).size().groupby(level=0, group_keys=False).apply(lambda x: x/x.sum())"
   ]
  },
  {
   "cell_type": "code",
   "execution_count": 201,
   "metadata": {},
   "outputs": [
    {
     "name": "stdout",
     "output_type": "stream",
     "text": [
      "price_level  income           \n",
      "cheap        $100,000 or more     0.286563\n",
      "             $20,000 - $39,999    0.160420\n",
      "             $40,000 - $59,999    0.152194\n",
      "             $60,000 - $79,999    0.166362\n",
      "             $80,000 - $99,999    0.167733\n",
      "             Less than $20,000    0.066728\n",
      "good         $100,000 or more     0.282018\n",
      "             $20,000 - $39,999    0.160965\n",
      "             $40,000 - $59,999    0.170614\n",
      "             $60,000 - $79,999    0.157895\n",
      "             $80,000 - $99,999    0.167105\n",
      "             Less than $20,000    0.061404\n",
      "middle       $100,000 or more     0.307971\n",
      "             $20,000 - $39,999    0.133023\n",
      "             $40,000 - $59,999    0.157867\n",
      "             $60,000 - $79,999    0.151656\n",
      "             $80,000 - $99,999    0.182712\n",
      "             Less than $20,000    0.066770\n",
      "premium      $100,000 or more     0.316279\n",
      "             $20,000 - $39,999    0.162791\n",
      "             $40,000 - $59,999    0.145116\n",
      "             $60,000 - $79,999    0.161395\n",
      "             $80,000 - $99,999    0.157674\n",
      "             Less than $20,000    0.056744\n",
      "dtype: float64\n"
     ]
    }
   ],
   "source": [
    "df2 = pd.read_excel(\"cleaned_Dogfood.xlsx\")"
   ]
  },
  {
   "cell_type": "code",
   "execution_count": 81,
   "metadata": {},
   "outputs": [],
   "source": [
    "#demo demo-geographic helper function\n",
    "def dg_validate(demogeo):\n",
    "    # get input info of gender, age, state\n",
    "    # output the column name needed\n",
    "    column = []\n",
    "    for gas in demogeo:\n",
    "        if gas in {'M', 'F'}:\n",
    "            column.append(\"gender\")\n",
    "            continue\n",
    "        elif gas in {'55-64', '35-44', '25-34', '18-24', '65+', '45-54'}:\n",
    "            column.append(\"age\")\n",
    "            continue\n",
    "        elif gas in {'UT', 'AL', 'OR', 'MO', 'MT', 'WY', 'MN', 'SD', 'PA', 'CO', 'OK',\n",
    "                   'HI', 'WA', 'SC', 'IL', 'WV', 'MI', 'WI', 'CA', 'MS', 'KS', 'ID',\n",
    "                   'OH', 'IN', 'NM', 'VA', 'GA', 'LA', 'DC', 'ND', 'NY', 'MD', 'AK',\n",
    "                   'DE', 'NV', 'AZ', 'IA', 'NC', 'NE', 'AR', 'FL', 'TX', 'KY', 'TN'}:\n",
    "            column.append(\"st\")\n",
    "            continue\n",
    "        else: # input validation\n",
    "            raise ValueError(\"Invalid Args Input\")\n",
    "    return column"
   ]
  },
  {
   "cell_type": "code",
   "execution_count": 168,
   "metadata": {},
   "outputs": [],
   "source": [
    "#demo pyschographic helper function\n",
    "def pyscho_validate(pyscho):\n",
    "    column = []\n",
    "    # get input info of income target and price\n",
    "    # output the column name needed\n",
    "    for pi in pyscho:    \n",
    "        if pi in {'$20,000 - $39,999', '$40,000 - $59,999', '$60,000 - $79,999',\n",
    "                  '$80,000 - $99,999', 'Less than $20,000', '$100,000 or more'}:\n",
    "            column.append(\"income\")\n",
    "        elif pi in {'middle', 'cheap', 'good', 'premium'}:\n",
    "            column.append(\"price_level\")\n",
    "        else: # input validation\n",
    "            raise ValueError(\"Invalid Args Input\")\n",
    "    return column"
   ]
  },
  {
   "cell_type": "code",
   "execution_count": 207,
   "metadata": {},
   "outputs": [],
   "source": [
    "def woof(data, brand, demo_geo = None, ads_type = None, pyscho = None):\n",
    "        # calculate the competebility of brand within all brands\n",
    "        woof_score = 0\n",
    "        brand_score = get_sns_rank(data, \"product_brand\").index(brand) / len(get_catergories(data, \"product_brand\"))\n",
    "        brand_market = get_market_percentage(data, \"product_brand\")[brand]\n",
    "        # calculate the demo-geographic impact score\n",
    "        if demo_geo:\n",
    "                demo_geo_score = get_market_percentage(data, dg_validate(demo_geo))\n",
    "                for dg in demo_geo:\n",
    "                        demo_geo_score = demo_geo_score.loc[dg]\n",
    "                demo_geo_score = demo_geo_score/brand_market\n",
    "                woof_score += demo_geo_score\n",
    "        # calculate the behavioral impact score\n",
    "        \n",
    "        # calculate the pyschographic impact score\n",
    "        if pyscho:\n",
    "                pyscho_score = get_proportions(data, pyscho_validate(pyscho))\n",
    "                for p in pyscho:\n",
    "                        pyscho_score = pyscho_score.loc[p]\n",
    "                woof_score += pyscho_score\n",
    "        woof_score += brand_score\n",
    "        return woof_score"
   ]
  },
  {
   "cell_type": "code",
   "execution_count": 209,
   "metadata": {},
   "outputs": [
    {
     "data": {
      "text/plain": [
       "0.5104732792842366"
      ]
     },
     "execution_count": 209,
     "metadata": {},
     "output_type": "execute_result"
    }
   ],
   "source": [
    "woof(df2, \"Alpha\", demo_geo=[\"F\", '18-24', \"FL\"], pyscho=['middle', 'Less than $20,000'])"
   ]
  }
 ],
 "metadata": {
  "kernelspec": {
   "display_name": "Python 3.10.8 64-bit (microsoft store)",
   "language": "python",
   "name": "python3"
  },
  "language_info": {
   "codemirror_mode": {
    "name": "ipython",
    "version": 3
   },
   "file_extension": ".py",
   "mimetype": "text/x-python",
   "name": "python",
   "nbconvert_exporter": "python",
   "pygments_lexer": "ipython3",
   "version": "3.10.8"
  },
  "orig_nbformat": 4,
  "vscode": {
   "interpreter": {
    "hash": "747749c99cf14c3fe74ec9e458bd9456c3c3d28ccbcf242e8265b3db247afd96"
   }
  }
 },
 "nbformat": 4,
 "nbformat_minor": 2
}
