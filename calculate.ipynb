{
 "cells": [
  {
   "cell_type": "code",
   "execution_count": 44,
   "metadata": {},
   "outputs": [],
   "source": [
    "import pandas as pd\n",
    "df = pd.read_excel(\"cleaned_Dogfood.xlsx\")"
   ]
  },
  {
   "cell_type": "code",
   "execution_count": 45,
   "metadata": {},
   "outputs": [],
   "source": [
    "# all attributes to get facters\n",
    "def get_catergories(data, category): # input: \"str\"\n",
    "        # return a list of catergories\n",
    "        return list(set(data[category]))\n",
    "    \n",
    "def get_sns_rank(data, col): # input: data = DataFrame, col = list[\"str\"..]\n",
    "        # return a list of the order of sns avg group by catergories increasing order\n",
    "        rank = data.groupby(col).sns.mean().sort_values().index\n",
    "        return list(rank)\n",
    "\n",
    "def get_market_percentage(data, col):# input: data = DataFrame, col = list[\"str\"..]\n",
    "        # return the market values sum of each catergories\n",
    "        return data.groupby(col).total_price.sum()\n",
    "\n",
    "def get_proportions(data, col):# input: data = DataFrame, col = list[\"str\"..]\n",
    "        # return the proportions of given input (1 or 2)\n",
    "        if len(col) == 1:\n",
    "                return data.groupby(col).size() / len(data)\n",
    "        # for 2 inputs, the order decide which is the main(1st) and sub(2nd) category\n",
    "        return data.groupby(col).size().groupby(level=0, group_keys=False).apply(lambda x: x/x.sum())"
   ]
  },
  {
   "cell_type": "code",
   "execution_count": 79,
   "metadata": {},
   "outputs": [
    {
     "data": {
      "text/plain": [
       "gender\n",
       "F    185830.29\n",
       "M    178319.49\n",
       "Name: total_price, dtype: float64"
      ]
     },
     "execution_count": 79,
     "metadata": {},
     "output_type": "execute_result"
    }
   ],
   "source": [
    "get_market_percentage(df, \"gender\")"
   ]
  },
  {
   "cell_type": "code",
   "execution_count": 46,
   "metadata": {},
   "outputs": [],
   "source": [
    "# given age and return the correspond age group\n",
    "def age_categorize(age):\n",
    "    if age in range(18, 25):\n",
    "        age_group = '18-24'\n",
    "    elif age in range(25, 35):\n",
    "        age_group = '25-34'\n",
    "    elif age in range(35, 45):\n",
    "        age_group = '35-44'\n",
    "    elif age in range(45, 55):\n",
    "        age_group = '45-54'\n",
    "    elif age in range(55, 65):\n",
    "        age_group = '55-64'\n",
    "    elif age >= 65:\n",
    "        age_group = '65+'\n",
    "    elif age < 18:\n",
    "        raise ValueError(\"Too young to get WOOF!\")\n",
    "    return age_group\n",
    "\n",
    "# given income and return income group\n",
    "def income_categorize(income):    \n",
    "    if income < 20000:\n",
    "        income_group = 'Less than $20,000'\n",
    "    elif income in range(20000, 40000):\n",
    "        income_group = '$20,000 - $39,999'\n",
    "    elif income in range(40000, 60000):\n",
    "        income_group = '$40,000 - $59,999'\n",
    "    elif income in range(60000, 80000):\n",
    "        income_group = '$60,000 - $79,999'\n",
    "    elif income in range(80000, 100000):\n",
    "        income_group = '$80,000 - $99,999'\n",
    "    elif income >= 100000:\n",
    "        income_group = '$100,000 or more'\n",
    "    return income_group\n",
    "\n",
    "#given price and return price group\n",
    "def price_categorize(price):\n",
    "    if price > 0 and price <= 19.99:\n",
    "        price_group = 'cheap'\n",
    "    elif price > 19.99 and price <= 39.17:\n",
    "        price_group = 'middle'\n",
    "    elif price > 39.17 and price <= 56.04:\n",
    "        price_group = 'good'\n",
    "    elif price > 56.04 and price <= 110:\n",
    "        price_group = 'premium'\n",
    "    elif price > 100:\n",
    "        raise ValueError('Price too expensive!')\n",
    "    return price_group"
   ]
  },
  {
   "cell_type": "code",
   "execution_count": 47,
   "metadata": {},
   "outputs": [],
   "source": [
    "#demo demo-geographic helper function\n",
    "def dg_validate(demogeo):\n",
    "    # get input info of gender, age, state\n",
    "    # output the column name needed\n",
    "    column = []\n",
    "    for gas in demogeo:\n",
    "        if gas in {'M', 'F'}:\n",
    "            column.append(\"gender\")\n",
    "            continue\n",
    "        elif gas in {'55-64', '35-44', '25-34', '18-24', '65+', '45-54'}:\n",
    "            column.append(\"age\")\n",
    "            continue\n",
    "        elif gas in {'UT', 'AL', 'OR', 'MO', 'MT', 'WY', 'MN', 'SD', 'PA', 'CO', 'OK',\n",
    "                   'HI', 'WA', 'SC', 'IL', 'WV', 'MI', 'WI', 'CA', 'MS', 'KS', 'ID',\n",
    "                   'OH', 'IN', 'NM', 'VA', 'GA', 'LA', 'DC', 'ND', 'NY', 'MD', 'AK',\n",
    "                   'DE', 'NV', 'AZ', 'IA', 'NC', 'NE', 'AR', 'FL', 'TX', 'KY', 'TN'}:\n",
    "            column.append(\"st\")\n",
    "            continue\n",
    "        else: # input validation\n",
    "            raise ValueError(\"Invalid Args Input\")\n",
    "    return column"
   ]
  },
  {
   "cell_type": "code",
   "execution_count": 72,
   "metadata": {},
   "outputs": [],
   "source": [
    "# behavior factors consideration\n",
    "def behavior_validation(data, age = None, ad_type = None):\n",
    "    # only validate the affect of advertisement option\n",
    "    if not age and ad_type:\n",
    "        return (get_sns_rank(data, \"ad_exp\").index(ad_type) + 1) / 6\n",
    "    # only validate the affect of age group\n",
    "    if not ad_type and age:\n",
    "        return (get_sns_rank(data, \"age\").index(age_categorize(age)) + 1) / 6\n",
    "    # calculate the sns affect by age group and ad type\n",
    "    filter_age = data[data['age'] == age_categorize(age)]\n",
    "    ad_count = get_sns_rank(filter_age, \"ad_exp\")\n",
    "    behavior_score = (ad_count.index(ad_type) + 1) / 6\n",
    "    return behavior_score"
   ]
  },
  {
   "cell_type": "code",
   "execution_count": 49,
   "metadata": {},
   "outputs": [],
   "source": [
    "#demo pyschographic helper function\n",
    "def pyscho_validate(pyscho):\n",
    "    column = []\n",
    "    # get input info of income target and price\n",
    "    # output the column name needed\n",
    "    for pi in pyscho: \n",
    "        if pi in {'$20,000 - $39,999', '$40,000 - $59,999', '$60,000 - $79,999',\n",
    "                  '$80,000 - $99,999', 'Less than $20,000', '$100,000 or more'}:\n",
    "            column.append(\"income\")\n",
    "        elif pi in {'middle', 'cheap', 'good', 'premium'}:\n",
    "            column.append(\"price_level\")\n",
    "        else: # input validation\n",
    "            raise ValueError(\"Invalid Args Input\")\n",
    "    return column"
   ]
  },
  {
   "cell_type": "code",
   "execution_count": 67,
   "metadata": {},
   "outputs": [],
   "source": [
    "def woof(data, brand, demo_geo, behavioral, pyscho):\n",
    "        DG, B, P = 0.3, 0.4, 0.3\n",
    "        # calculate the competebility of brand within all brands\n",
    "        woof_score = 0\n",
    "        brand_score = get_sns_rank(data, \"product_brand\").index(brand) / len(get_catergories(data, \"product_brand\"))\n",
    "        brand_market = get_market_percentage(data, \"product_brand\")[brand]\n",
    "        # calculate the demo-geographic impact score\n",
    "        if demo_geo:\n",
    "                DG = 0\n",
    "                demo_geo_score = get_market_percentage(data, dg_validate(demo_geo))\n",
    "                for dg in demo_geo:\n",
    "                        demo_geo_score = demo_geo_score.loc[dg]\n",
    "                demo_geo_score = demo_geo_score/brand_market\n",
    "                woof_score += (demo_geo_score * 0.3)\n",
    "                print(\"dg = {}\".format(demo_geo_score))\n",
    "        # calculate the behavioral impact score\n",
    "        if behavioral:\n",
    "                B = 0\n",
    "                if len(behavioral) < 2:\n",
    "                        behavioral_score = behavior_validation(data, behavioral[0]) * 0.4\n",
    "                else:\n",
    "                        behavioral_score = behavior_validation(data, behavioral[0], behavioral[1]) * 0.4\n",
    "                woof_score += behavioral_score\n",
    "                print(\"behav = {}\".format(behavioral_score))\n",
    "        # calculate the pyschographic impact score\n",
    "        if pyscho:\n",
    "                P = 0\n",
    "                pyscho_score = get_proportions(data, pyscho_validate(pyscho))\n",
    "                for p in pyscho:\n",
    "                        pyscho_score = pyscho_score.loc[p]\n",
    "                woof_score += pyscho_score\n",
    "                print(\"pys = {}\".format(pyscho_score))\n",
    "        woof_score += (brand_score * (DG + B + P))\n",
    "        print(brand_score)\n",
    "        print(\"Your WOOF score is {}!!\".format(woof_score))"
   ]
  },
  {
   "cell_type": "code",
   "execution_count": 52,
   "metadata": {},
   "outputs": [],
   "source": [
    "# fit all input of WOOF function into our woof score model\n",
    "def WOOF(data, brand, gender = None, age = None, state = None, ad_type = None, price = None, income = None):\n",
    "    if age: age_group = age_categorize(age)\n",
    "    if income: income_group = income_categorize(income)\n",
    "    if price: price_group = price_categorize(price)\n",
    "    if gender or age or state:\n",
    "        demo_geo = []\n",
    "        if gender: demo_geo.append(gender)\n",
    "        if age: demo_geo.append(age_group)\n",
    "        if state: demo_geo.append(state)\n",
    "    else: demo_geo = None\n",
    "    if age or ad_type:\n",
    "        behav = []\n",
    "        if age: behav.append(age)\n",
    "        if ad_type: behav.append(ad_type)\n",
    "    else: behav = None\n",
    "    if price or income:\n",
    "        pyscho = []\n",
    "        if price: pyscho.append(price_group)\n",
    "        if income: pyscho.append(income_group)\n",
    "    else: pyscho = None\n",
    "    return woof(data, brand, demo_geo, behav, pyscho)"
   ]
  },
  {
   "cell_type": "code",
   "execution_count": 80,
   "metadata": {},
   "outputs": [
    {
     "name": "stdout",
     "output_type": "stream",
     "text": [
      "dg = 16.849165612632092\n",
      "0.76\n",
      "Your WOOF score is 5.586749683789628!!\n"
     ]
    }
   ],
   "source": [
    "WOOF(df, \"King\", gender=\"F\")"
   ]
  },
  {
   "cell_type": "code",
   "execution_count": null,
   "metadata": {},
   "outputs": [],
   "source": [
    "# put products to correspond brands in a dictionary\n",
    "df = pd.read_excel(\"cleaned_Dogfood.xlsx\")\n",
    "products = set(df.product_name)\n",
    "brands = set(df.product_brand)\n",
    "brand_products = {}\n",
    "for brand in brands:\n",
    "    brand_products[brand] = []\n",
    "for product in products:\n",
    "    clip = product.split()[0:2]\n",
    "    clips = \" \".join(clip)\n",
    "    for brand in brands:\n",
    "        if brand in clips:\n",
    "            brand_products[brand].append(product)\n",
    "            break\n",
    "brand_products"
   ]
  }
 ],
 "metadata": {
  "kernelspec": {
   "display_name": "Python 3.10.8 64-bit (microsoft store)",
   "language": "python",
   "name": "python3"
  },
  "language_info": {
   "codemirror_mode": {
    "name": "ipython",
    "version": 3
   },
   "file_extension": ".py",
   "mimetype": "text/x-python",
   "name": "python",
   "nbconvert_exporter": "python",
   "pygments_lexer": "ipython3",
   "version": "3.10.8"
  },
  "orig_nbformat": 4,
  "vscode": {
   "interpreter": {
    "hash": "747749c99cf14c3fe74ec9e458bd9456c3c3d28ccbcf242e8265b3db247afd96"
   }
  }
 },
 "nbformat": 4,
 "nbformat_minor": 2
}
