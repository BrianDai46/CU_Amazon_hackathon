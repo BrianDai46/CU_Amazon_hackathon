{
 "cells": [
  {
   "cell_type": "code",
   "execution_count": 56,
   "metadata": {},
   "outputs": [],
   "source": [
    "import pandas as pd"
   ]
  },
  {
   "cell_type": "code",
   "execution_count": null,
   "metadata": {},
   "outputs": [],
   "source": [
    "# put products to correspond brands in a dictionary\n",
    "df2 = pd.read_excel(\"cleaned_Dogfood.xlsx\")\n",
    "products = set(df2.product_name)\n",
    "brands = set(df2.product_brand)\n",
    "brand_products = {}\n",
    "for brand in brands:\n",
    "    brand_products[brand] = []\n",
    "for product in products:\n",
    "    clip = product.split()[0:2]\n",
    "    clips = \" \".join(clip)\n",
    "    for brand in brands:\n",
    "        if brand in clips:\n",
    "            brand_products[brand].append(product)\n",
    "            break\n",
    "brand_products"
   ]
  },
  {
   "cell_type": "code",
   "execution_count": 77,
   "metadata": {},
   "outputs": [],
   "source": [
    "def get_catergories(data, category): # input: \"str\"\n",
    "        # return a list of catergories\n",
    "        return list(set(data[category]))\n",
    "    \n",
    "def get_sns_rank(data, col): # input: data = DataFrame, col = list[\"str\"..]\n",
    "        # return a list of the order of sns avg group by catergories increasing order\n",
    "        rank = data.groupby(col).sns.mean().sort_values().index\n",
    "        return list(rank)\n",
    "\n",
    "def get_market_percentage(data, col):# input: data = DataFrame, col = list[\"str\"..]\n",
    "        # return the market values sum of each catergories\n",
    "        market = data.groupby(col).total_price.sum()\n",
    "        return market"
   ]
  },
  {
   "cell_type": "code",
   "execution_count": 136,
   "metadata": {},
   "outputs": [
    {
     "data": {
      "text/plain": [
       "17277.97"
      ]
     },
     "execution_count": 136,
     "metadata": {},
     "output_type": "execute_result"
    }
   ],
   "source": [
    "df2 = pd.read_excel(\"cleaned_Dogfood.xlsx\")"
   ]
  },
  {
   "cell_type": "code",
   "execution_count": 81,
   "metadata": {},
   "outputs": [],
   "source": [
    "def dg_validate(demogeo):\n",
    "    # get input info of gender, age, state\n",
    "    # output the column name needed\n",
    "    column = []\n",
    "    for gas in demogeo:\n",
    "        if gas in {'M', 'F'}:\n",
    "            column.append(\"gender\")\n",
    "            continue\n",
    "        if gas in {'55-64', '35-44', '25-34', '18-24', '65+', '45-54'}:\n",
    "            column.append(\"age\")\n",
    "            continue\n",
    "        if gas in {'UT', 'AL', 'OR', 'MO', 'MT', 'WY', 'MN', 'SD', 'PA', 'CO', 'OK',\n",
    "                   'HI', 'WA', 'SC', 'IL', 'WV', 'MI', 'WI', 'CA', 'MS', 'KS', 'ID',\n",
    "                   'OH', 'IN', 'NM', 'VA', 'GA', 'LA', 'DC', 'ND', 'NY', 'MD', 'AK',\n",
    "                   'DE', 'NV', 'AZ', 'IA', 'NC', 'NE', 'AR', 'FL', 'TX', 'KY', 'TN'}:\n",
    "            column.append(\"st\")\n",
    "    return column"
   ]
  },
  {
   "cell_type": "code",
   "execution_count": 138,
   "metadata": {},
   "outputs": [],
   "source": [
    "def woof(data, brand, demo_geo = None, ads_type = None):\n",
    "        # calculate the competebility of brand within all brands\n",
    "        score = 0\n",
    "        brand_score = get_sns_rank(data, \"product_brand\").index(brand) / len(get_catergories(data, \"product_brand\"))\n",
    "        brand_market = get_market_percentage(data, \"product_brand\")[brand]\n",
    "        # calculate the demo-geographic impact score\n",
    "        if demo_geo:\n",
    "                demo_geo_score = get_market_percentage(data, dg_validate(demo_geo))\n",
    "                for dg in demo_geo:\n",
    "                        demo_geo_score = demo_geo_score.loc[dg]\n",
    "                demo_geo_score = demo_geo_score/brand_market\n",
    "        return demo_geo_score"
   ]
  },
  {
   "cell_type": "code",
   "execution_count": 140,
   "metadata": {},
   "outputs": [
    {
     "data": {
      "text/plain": [
       "0.003703092948832848"
      ]
     },
     "execution_count": 140,
     "metadata": {},
     "output_type": "execute_result"
    }
   ],
   "source": [
    "woof(df2, \"Alpha\", demo_geo=[\"F\", '18-24', \"FL\"])"
   ]
  }
 ],
 "metadata": {
  "kernelspec": {
   "display_name": "Python 3.10.8 64-bit (microsoft store)",
   "language": "python",
   "name": "python3"
  },
  "language_info": {
   "codemirror_mode": {
    "name": "ipython",
    "version": 3
   },
   "file_extension": ".py",
   "mimetype": "text/x-python",
   "name": "python",
   "nbconvert_exporter": "python",
   "pygments_lexer": "ipython3",
   "version": "3.10.8"
  },
  "orig_nbformat": 4,
  "vscode": {
   "interpreter": {
    "hash": "747749c99cf14c3fe74ec9e458bd9456c3c3d28ccbcf242e8265b3db247afd96"
   }
  }
 },
 "nbformat": 4,
 "nbformat_minor": 2
}
