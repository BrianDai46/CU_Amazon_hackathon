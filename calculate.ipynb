{
 "cells": [
  {
   "cell_type": "code",
   "execution_count": 2,
   "metadata": {},
   "outputs": [],
   "source": [
    "import pandas as pd\n",
    "import WOOF\n",
    "df = pd.read_excel(\"Columbia_Hackathon_Data_Dogfood.xlsx\")"
   ]
  },
  {
   "cell_type": "code",
   "execution_count": 5,
   "metadata": {},
   "outputs": [],
   "source": [
    "#cleaning data by delete meaningless column\n",
    "#and wrong product name\n",
    "#and wrong zip code format\n",
    "df = df.drop(['sale_date', 'sale_id', 'product_id', 'customer_id'], axis=1)\n",
    "df = df.drop(df[df.product_name == \"Alpha \"].index)\n",
    "df = df.drop(df[df.zip.apply(str).apply(len) != 5].index)"
   ]
  },
  {
   "cell_type": "code",
   "execution_count": 6,
   "metadata": {},
   "outputs": [],
   "source": [
    "#list out all the special ingredients that mentioned in the name of all products\n",
    "ingredients_list = {\"Chicken\", \"Rice\", \"Oats\", \"Turkey\", \"Venison\", \"Lamb\",\n",
    "               \"Beef\", \"Salmon\", \"Fish\", \"Pea\", \"Veggies\", \"Fruit\", \"Barley\", \"Potato\",\n",
    "               \"Steak\", \"Pumpkin\", \"Duck\"}\n",
    "ingredient = []\n",
    "ingredient_number = []\n",
    "#iterate all productions\n",
    "for row in df.itertuples():\n",
    "    ingre = []\n",
    "    p = row.product_name\n",
    "    for food in ingredients_list:\n",
    "        if food in p:\n",
    "            ingre.append(food)\n",
    "    ingredient_number.append(len(ingre))\n",
    "    if len(ingre) == 0:\n",
    "        ingredient.append(\"None\")\n",
    "        continue\n",
    "    elif len(ingre) == 1:\n",
    "        ingredient.append(*ingre)\n",
    "        continue\n",
    "    ingredient.append(\",\".join(ingre))\n",
    "df = df.assign(ingredients_mentioned=ingredient)\n",
    "df = df.assign(ingredients_number=ingredient_number)\n",
    "            "
   ]
  },
  {
   "cell_type": "code",
   "execution_count": 4,
   "metadata": {},
   "outputs": [
    {
     "data": {
      "text/plain": [
       "{'Seattle Gourmet': ['Seattle Gourmet Dry Dog Food, Adult 1-6',\n",
       "  'Seattle Gourmet Dry Dog Food, Adult, Sensitive Stomach & Skin Recipes',\n",
       "  'Seattle Gourmet Dry Dog Food, Adult, Large Breed, Light, Chicken Meal & Barley Recipe',\n",
       "  'Seattle Gourmet y Dog Food, Adult, Small Paws for Small Breed Dogs',\n",
       "  'Seattle Gourmet Dry Dog Food, Adult 1-5, Large Breed',\n",
       "  'Seattle Gourmet y Dog Food, Adult, Sensitive Stomach & Skin Recipes',\n",
       "  'Seattle Gourmet Dry Dog Food, Adult, Small Paws for Small Breed Dogs',\n",
       "  'Seattle Gourmet y Dog Food, Adult, Large Breed, Light, Chicken Meal & Barley Recipe for Healthy Weight & Weight Man',\n",
       "  'Seattle Gourmet Adult 7+ Small Bites Chicken Meal, Barley & Brown Rice Recipe Dry Dog Food, 15 lb. Bag',\n",
       "  'Seattle Gourmet y Dog Food, Adult 1-5, Large Breed',\n",
       "  'Seattle Gourmet y Dog Food, Adult 1-6'],\n",
       " 'Bones': ['Bones Human Grade Dehydrated Whole Grain Dog Food – Complete Meal or Dog Food Topper'],\n",
       " 'Choice': ['Choice Small Dog Complete Nutrition Small Breed Adult Dry Dog Food Grilled Steak and Vegetable Flavor Dog',\n",
       "  'Choice dult Dry Dog Food, Chicken & Steak',\n",
       "  'Choice Dry Dog Food',\n",
       "  'Choice Cuts in Gravy Adult Wet Dog Food, 3.5 oz. Pouches',\n",
       "  'Choice Small Breed Adult Dry Dog Food, Chicken & Steak',\n",
       "  'Choice Chopped Ground Dinner Adult Wet Dog Food, 3.5 oz. Pouches'],\n",
       " 'Playtime': ['Playtime Limited Ingredient Formula Grain-Free Dry Dog Food',\n",
       "  'Playtime edient Formula Grain-Free Dry Dog Food'],\n",
       " 'Ruby': ['Ruby Dry Senior Dog Food Formula High Quality With Protein, Probiotics, Superfoods, And Antioxidants',\n",
       "  'Ruby Skin & Coat Real Fish Recipe Dry Dog Food with Protein, and Probiotics',\n",
       "  'Ruby & Coat Real Fish Recipe Dry Dog Food with Protein, and Probiotics',\n",
       "  'Ruby Premium Formulas Dry Dog Food for Adult Dogs Made with Real Meat Protein, Superfoods, Probiotics and Antioxidants for Su'],\n",
       " 'Kastle': ['Kastle Original Savory Beef & Chicken Dry Dog Food'],\n",
       " 'Beam': ['Beam Dry Dog Food, Beef, Pea & Brown Rice Recipe',\n",
       "  'Beam Premium Natural Dry Dog Food, Real Chicken & Veggies Recipe, 28 Pounds',\n",
       "  'Beam sh Super Premium Dry Dog Food with Real Meat, Veggies & Fruit',\n",
       "  'Beam Dish Super Premium Dry Dog Food with Real Meat, Veggies & Fruit',\n",
       "  'Beam Just 6 Limited Ingredient Diet Dry Dog Food',\n",
       "  'Beam y Dog Food, Beef, Pea & Brown Rice Recipe',\n",
       "  'Beam st 6 Limited Ingredient Diet Dry Dog Food',\n",
       "  'Beam emium Natural Dry Dog Food, Real Chicken & Veggies Recipe, 28 Pounds (Packaging May Vary)'],\n",
       " 'Bezt': ['Bezt Natural Small Breed Wet Dog Food Cups, in Hearty Gravy, 3.5-oz Cups',\n",
       "  'Bezt Natural Senior Wet Dog Food, Chicken 12.5-oz can (Pack of 12)',\n",
       "  'Bezt Natural Adult Dry Dog Food',\n",
       "  'Bezt ection Formula Natural Adult Large Breed Dry Dog Food',\n",
       "  'Bezt Natural Adult Beef and Brown Rice Dry Dog Food',\n",
       "  'Bezt Natural Adult Wet Dog Food, 12.5-oz cans (Pack of 12)',\n",
       "  'Bezt Natural Adult Fish and Brown Rice Dry Dog Food',\n",
       "  'Bezt ection Formula Natural Adult Beef and Brown Rice Dry Dog Food',\n",
       "  'Bezt Natural Adult Large Breed Dry Dog Food',\n",
       "  'Bezt Natural Senior Dry Dog Food, Chicken and Brown Rice',\n",
       "  'Bezt Natural Adult Healthy Weight Chicken and Brown Rice Dry Dog Food',\n",
       "  'Bezt Natural Adult Small Breed Dry Dog Food',\n",
       "  'Bezt High Protein, Natural Adult Dry Dog Food',\n",
       "  'Bezt Adult Chicken and Brown Rice Recipe Dry Dog Food'],\n",
       " 'Rivera': ['Rivera High Protein Adult Dry Dog Food, Wholesome Grains and Grain Free',\n",
       "  'Rivera lt Dry Dog Food, Wholesome Grains and Grain Free'],\n",
       " 'Beethoven': ['Beethoven Wild Smoke-Flavored Salmon High Protein Recipes Premium Dry Dog Food with Real Salmon, Superfoods',\n",
       "  'Beethoven e-Flavored Salmon High Protein Recipes Premium Dry Dog Food with Real Salmon, Superfoods and Nutrie',\n",
       "  'Beethoven Roasted Bison and Venison High Protein Real Meat Recipes Premium Dry Dog Food with Superfoods and N'],\n",
       " 'Flora': ['Flora Kibble Dry Dog Food, 20 lb, with Plant Based Protein'],\n",
       " 'Omaha': ['Omaha y Dog Food, Raw Coated Whole Grain Dog Food',\n",
       "  'Omaha Natural Dry Dog Food, Raw Coated Whole Grain Dog Food'],\n",
       " 'Perro': ['Perro Complete Turkey & Salmon Recipe Senior Grain-Free Freeze-Dried Raw Dog Food'],\n",
       " 'Paws': ['Paws Minichunks Adult Dry Dog Food, Chicken',\n",
       "  'Paws Dry Dog Food, Chicken & Lamb',\n",
       "  'Paws Large Breed Adult Dry Dog Food, Chicken & Lamb',\n",
       "  'Paws Adult Dry Dog Food for Healthy Weight, Chicken',\n",
       "  'Paws d for Healthy Weight, Chicken'],\n",
       " 'King': ['King Health Nutrition Small Adult Dry Dog Food',\n",
       "  'King Health Nutrition Medium Adult Dry Dog Food',\n",
       "  'King Dry Puppy Food',\n",
       "  'King th Nutrition French Bulldog Dry Puppy Food'],\n",
       " 'Hearth': ['Hearth ry Dog Food, Humanely Raised Meat Recipe with Non-GMO Superfoods and No Artificial Flavors or Prese',\n",
       "  'Hearth Grain-Free Dry Dog Food, Humanely Raised Meat Recipe with Non-GMO Superfoods and No Artificial Flav'],\n",
       " 'K99': ['K99 og Food – Professional Dry Dog Food – Super Premium Dog Food with 26% Protein, Gluten Free - for Hi',\n",
       "  'K99 Super Premium Dog Food – Professional Dry Dog Food – Super Premium Dog Food with 26% Protein, Glute'],\n",
       " 'Top': ['Top Grain-Free Salmon, Sweet Potato & Pumpkin Dry Dog Food',\n",
       "  'Top Limited Ingredient Diet | Adult Grain-Free Dry Dog Food',\n",
       "  'Top Adult Dry Dog Food',\n",
       "  'Top Bites Dry Dog Food, Chicken & Rice Recipe, 4 Pound Bag',\n",
       "  'Top Small Bites Dry Dog Food, Chicken & Rice Recipe, 4 Pound Bag',\n",
       "  'Top Dry Dog Food'],\n",
       " 'Garland': ['Garland Grain Free with Real Meat + Sweet Potato Dry Dog Food',\n",
       "  'Garland Dog Food Health Weight Recipe',\n",
       "  'Garland h Real Meat + Sweet Potato Dry Dog Food',\n",
       "  'Garland Senior Dry Dog Food with Real Meat',\n",
       "  'Garland Food with Real Meat',\n",
       "  'Garland Healthy Grains Dry Dog Food with Real Meat',\n",
       "  'Garland y Grains Dry Dog Food with Real Meat',\n",
       "  'Garland Classic Healthy Grains Dry Dog Food with Real Meat',\n",
       "  'Garland Small Breed Dry Dog Food with Real Meat',\n",
       "  'Garland ll Breed Dry Dog Food with Real Meat',\n",
       "  'Garland Real Meat Dry Dog Food Health Weight Recipe'],\n",
       " 'Astro': ['Astro Grain-Free High-Protein Dry Dog Food, Natural Ingredients, Made in USA with Real Meat, All Breeds,',\n",
       "  'Astro ee High-Protein Dry Dog Food, Natural Ingredients, Made in USA with Real Meat, All Breeds, for Adul',\n",
       "  'Astro th Small Breed Dry Dog Food with Grains, Natural Ingredients, Made in USA with Real Turkey, for Dog',\n",
       "  'Astro Small Breed Dry Dog Food with Grains, Natural Ingredients, Made in USA with Real Turkey, for Dogs U'],\n",
       " 'Arf': ['Arf Wholesome Grains Adult Healthy Weight Dry Dog Food - Chicken & Brown Rice Recipe',\n",
       "  'Arf Dry Dog Food Large Breed with Grains (Chicken and Brown Rice)',\n",
       "  'Arf Jerky Dog Treats, 2 Lb Bag (Chicken, Duck, Sweet Potato Wraps)',\n",
       "  'Arf Wholesome Grains Dry Dog Food (Chicken/Salmon/Beef/Lamb and Brown Rice)',\n",
       "  'Arf Dog Food, 35% Protein, No Added Grains (Beef, Salmon, Turkey, Lamb, Chicken)',\n",
       "  'Arf Soft & Tender American Jerky Dog Treats',\n",
       "  'Arf lesome Grains Senior Dry Dog Food - Chicken & Brown Rice Recipe',\n",
       "  'Arf Wet Canned Dog Food 12.5/13.2 oz',\n",
       "  'Arf Wholesome Grains Senior Dry Dog Food - Chicken & Brown Rice Recipe'],\n",
       " 'Health One': ['Health One Small & Toy Breed Adult Dry Dog Food',\n",
       "  'Health One Ultra High Protein Natural Dry Dog Puppy Food with a Trio of Proteins from Chicken Lamb and Salmon',\n",
       "  'Health One in Natural Dry Dog Puppy Food with a Trio of Proteins from Chicken Lamb and Salmon, 4 lb. Bag',\n",
       "  'Health One NATURAL CHOICE Natural Adult & Senior Dry Dog Food for Small & Toy Breeds',\n",
       "  'Health One Adult Dry Dog Food, Chicken Lamb & Salmon Flavor',\n",
       "  'Health One Natural Choice Small Bites Adult Dry Dog Food, Lamb & Chicken',\n",
       "  'Health One High Protein Natural Dry Dog Food with a Trio of Proteins from Chicken, Lamb and Salmon, 4 lb. Bag',\n",
       "  'Health One y Breed Adult Dry Dog Food',\n",
       "  'Health One Dog Food, Chicken Lamb & Salmon Flavor',\n",
       "  'Health One NATURAL CHOICE Natural Adult Dry Dog Food, Chicken'],\n",
       " 'Alpha': ['Alpha Natural Dry Dog Food, True Instinct With Real Turkey & Venison - 15 lb. Bag',\n",
       "  'Alpha Shredded Blend High Protein, Adult Dry Dog Food Chicken & Rice (Packagin',\n",
       "  'Alpha Sensitive Skin & Stomach with Oats Adult Dry Dog Food',\n",
       "  'Alpha Moist & Meaty Steak Flavor Adult Dry Dog Food',\n",
       "  'Alpha High Protein Dog Food with Probiotics for Dogs, Shredded Blend Turkey & Rice Formula - 17 lb. Bag',\n",
       "  'Alpha Shredded Blend High Protein, Adult Dry Dog Food Chicken & Rice (Packaging May Vary)',\n",
       "  'Alpha ive Skin & Stomach, High Protein Dry Dog Food',\n",
       "  'Alpha Natural Adult Chicken & Rice Dry Dog Food',\n",
       "  'Alpha Natural Healthy Weight Formula Adult Dry Dog Food & Wet Dog Food',\n",
       "  'Alpha Probiotics Shredded Blend High Protein, Adult Dry Dog Food Chicken & Rice',\n",
       "  'Alpha Performance - High Protein Dry Dog Food - Chicken & Rice',\n",
       "  'Alpha Natural Adult Lamb & Rice Dry Dog Food',\n",
       "  'Alpha robiotics Shredded Blend High Protein, Adult Dry Dog Food Chicken & Rice',\n",
       "  'Alpha Natural Sensitive Systems, Skin & Coat Salmon Adult Dry Dog Food',\n",
       "  'Alpha Natural Dry Dog Food, True Instinct With Real Turkey & Venison - 7.4 lb. Bag',\n",
       "  'Alpha Natural Large Breed Formula Adult Dry Dog Food',\n",
       "  'Alpha Natural Adult Beef & Rice Dry Dog Food',\n",
       "  'Alpha n, Natural Dry Dog Food, True Instinct With Real Turkey & Venison - 7.4 lb. Bag',\n",
       "  'Alpha Sensitive Skin & Stomach, High Protein Dry Dog Food'],\n",
       " 'Romero': ['Romero Gourmet Wet Dog Food Variety Packs – 24 Trays',\n",
       "  'Romero ft Wet Dog Food Pot Roast & Vegetable, Beef Stew, Turkey Potato & Green Bean, and Hearth Chicken &',\n",
       "  'Romero Food Variety Packs – 24 Trays',\n",
       "  'Romero Soft Wet Dog Food Pot Roast & Vegetable, Beef Stew, Turkey Potato & Green Bean, and Hearth Chicken'],\n",
       " 'Hanover': ['Hanover Original Recipe, 13lb, High-Protein Grain-Free Dry Dog Food']}"
      ]
     },
     "execution_count": 4,
     "metadata": {},
     "output_type": "execute_result"
    }
   ],
   "source": [
    "#put products to correspond brands in a dictionary\n",
    "df2 = pd.read_excel(\"cleaned_Dogfood.xlsx\")\n",
    "products = set(df2.product_name)\n",
    "brands = set(df2.product_brand)\n",
    "brand_products = {}\n",
    "for brand in brands:\n",
    "    brand_products[brand] = []\n",
    "for product in products:\n",
    "    clip = product.split()[0:2]\n",
    "    clips = \" \".join(clip)\n",
    "    for brand in brands:\n",
    "        if brand in clips:\n",
    "            brand_products[brand].append(product)\n",
    "            break\n",
    "brand_products"
   ]
  },
  {
   "cell_type": "code",
   "execution_count": 8,
   "metadata": {},
   "outputs": [],
   "source": [
    "df.to_excel(\"cleaned_Dogfood.xlsx\")\n"
   ]
  },
  {
   "cell_type": "code",
   "execution_count": 18,
   "metadata": {},
   "outputs": [
    {
     "data": {
      "text/plain": [
       "'Some other type of ad'"
      ]
     },
     "execution_count": 18,
     "metadata": {},
     "output_type": "execute_result"
    }
   ],
   "source": [
    "ad = df2.groupby(\"ad_exp\").sns.mean().sort_values().index\n"
   ]
  }
 ],
 "metadata": {
  "kernelspec": {
   "display_name": "Python 3.10.8 64-bit (microsoft store)",
   "language": "python",
   "name": "python3"
  },
  "language_info": {
   "codemirror_mode": {
    "name": "ipython",
    "version": 3
   },
   "file_extension": ".py",
   "mimetype": "text/x-python",
   "name": "python",
   "nbconvert_exporter": "python",
   "pygments_lexer": "ipython3",
   "version": "3.10.8"
  },
  "orig_nbformat": 4,
  "vscode": {
   "interpreter": {
    "hash": "747749c99cf14c3fe74ec9e458bd9456c3c3d28ccbcf242e8265b3db247afd96"
   }
  }
 },
 "nbformat": 4,
 "nbformat_minor": 2
}
