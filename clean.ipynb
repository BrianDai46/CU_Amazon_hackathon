{
 "cells": [
  {
   "cell_type": "code",
   "execution_count": null,
   "metadata": {},
   "outputs": [],
   "source": [
    "import pandas as pd\n",
    "df = pd.read_excel(\"Columbia_Hackathon_Data_Dogfood.xlsx\")"
   ]
  },
  {
   "cell_type": "code",
   "execution_count": null,
   "metadata": {},
   "outputs": [],
   "source": [
    "# cleaning data by delete meaningless column\n",
    "# and wrong product name\n",
    "# and wrong zip code format\n",
    "df = df.drop(['sale_date', 'sale_id', 'product_id', 'customer_id'], axis=1)\n",
    "df = df.drop(df[df.product_name == \"Alpha \"].index)\n",
    "df = df.drop(df[df.zip.apply(str).apply(len) != 5].index)"
   ]
  },
  {
   "cell_type": "code",
   "execution_count": null,
   "metadata": {},
   "outputs": [],
   "source": [
    "# list out all the special ingredients that mentioned in the name of all products\n",
    "ingredients_list = {\"Chicken\", \"Rice\", \"Oats\", \"Turkey\", \"Venison\", \"Lamb\",\n",
    "               \"Beef\", \"Salmon\", \"Fish\", \"Pea\", \"Veggies\", \"Fruit\", \"Barley\", \"Potato\",\n",
    "               \"Steak\", \"Pumpkin\", \"Duck\"}\n",
    "ingredient = []\n",
    "ingredient_number = []\n",
    "# iterate all productions\n",
    "for row in df.itertuples():\n",
    "    ingre = []\n",
    "    p = row.product_name\n",
    "    for food in ingredients_list:\n",
    "        if food in p:\n",
    "            ingre.append(food)\n",
    "    ingredient_number.append(len(ingre))\n",
    "    if len(ingre) == 0:\n",
    "        ingredient.append(\"None\")\n",
    "        continue\n",
    "    elif len(ingre) == 1:\n",
    "        ingredient.append(*ingre)\n",
    "        continue\n",
    "    ingredient.append(\",\".join(ingre))\n",
    "df = df.assign(ingredients_mentioned=ingredient)\n",
    "df = df.assign(ingredients_number=ingredient_number)"
   ]
  },
  {
   "cell_type": "code",
   "execution_count": null,
   "metadata": {},
   "outputs": [],
   "source": [
    "# save dataframe into excel\n",
    "df.to_excel(\"cleaned_Dogfood.xlsx\")"
   ]
  }
 ],
 "metadata": {
  "kernelspec": {
   "display_name": "Python 3.10.8 64-bit (microsoft store)",
   "language": "python",
   "name": "python3"
  },
  "language_info": {
   "name": "python",
   "version": "3.10.8"
  },
  "orig_nbformat": 4,
  "vscode": {
   "interpreter": {
    "hash": "747749c99cf14c3fe74ec9e458bd9456c3c3d28ccbcf242e8265b3db247afd96"
   }
  }
 },
 "nbformat": 4,
 "nbformat_minor": 2
}
